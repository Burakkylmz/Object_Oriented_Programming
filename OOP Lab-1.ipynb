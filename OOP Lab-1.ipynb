{
 "cells": [
  {
   "cell_type": "markdown",
   "metadata": {},
   "source": [
    "# OOP Lab-1"
   ]
  },
  {
   "cell_type": "markdown",
   "metadata": {},
   "source": [
    "Class (Sınıf) Nedir?\n",
    "Sınıf Python içerisinde oluşturduğumuz kendi objelermizin prototiplerdir. Objelerin kendi karakteristik özellikleri sınıf içerisinde oluşturucağımız değişkenler ve veri üyeleri sayesinde tanımlanabilir. Class ile oluşturduğumuz objelerin tüm davranışları fonksiyon ile tanımlanır.\n",
    "\n",
    "Bir sınıf tanımlarken \"class\" anahtar sözlüğü ile başlıyoruz. İlgili sınıfa proje içerisindeki görevi ve yapacağı iş doğrultusunda anlamlı bir isim veririr. Class isimleri Python'da kullanılan best practice dediğimiz kabul görmüş yapılara uymak gerekir."
   ]
  },
  {
   "cell_type": "code",
   "execution_count": null,
   "metadata": {},
   "outputs": [],
   "source": [
    "class myFirstClass:\n",
    "    pass"
   ]
  },
  {
   "cell_type": "markdown",
   "metadata": {},
   "source": [
    "\"pass\" anahtar sözcüğü ile yaratılan sınıfın içeriğinin daha sonra doldurulacağını interpreter'a bildiriyoruz. Eğer sınıf ile ilgili işlemler daha sonra yapılacak ve bu anahtar sözcüğü kullanmasazsak hata alırırız. Burada bu sınıf ile şuanlık herhangi bir iş yapmayacağımı belirtiyorum. Bu anahtar kelime methot içinde kullanılabilinir. Sınıfa hemen özellik ve yetenek yüklenecekse pass kullanmanın bir anlamı bulunmamaktadır.\n",
    "\n",
    "Sınıf adı, standart Ptyhon değişkeni adlandırma kurullarına (bir harf veya alt çizgi ile başlanmalı ve yanlızca harfler, altçizgiler veya sayılar içermelidir) uyulmalıdır. Ayrıca Python stil rehberi için PEP 8 diye internette aratştırma yapabilirsiniz.\n",
    "\n",
    "https://www.python.org/dev/peps/pep-0008/ => PEP 8 -- Style Guide for Python Code\n",
    "\n",
    "Pythonda sınıfların camelCase gösterimi kullanılarak adlandırılması önerilir."
   ]
  },
  {
   "cell_type": "code",
   "execution_count": 1,
   "metadata": {},
   "outputs": [
    {
     "name": "stdout",
     "output_type": "stream",
     "text": [
      "Çalışan Bilgileri\n",
      "Adı: Burak\n",
      "Soyadı: Yılmaz\n",
      "Departmanı: Developer\n",
      "\n"
     ]
    }
   ],
   "source": [
    "class employee:\n",
    "    \"\"\"\n",
    "        Bu satır class dokümantasyonudur. Class ile ilgili bilgileri barındırır.\n",
    "        Bu sınıf (class) çalışan bilgilerini içerir.\n",
    "    \"\"\"\n",
    "    # Yarattığımız sıfımıza özellikler (property) kazandıralım\n",
    "    firstName = \"\"\n",
    "    lasName = \"\"\n",
    "    departmant = \"\"\n",
    "    \n",
    "# Yaratılan sınıfın kullanımı\n",
    "# Yaratılan sınıfın kullanımı için, ilgili sınıfın \"örneklemi (instance)\" alınır.\n",
    "# Instance (Örneklem) => Örneklem alma yada örneklem çıkarma olarak isimlendirilen bu işlem, yarattığımız sınıfın \n",
    "# özelliklerine ve yetneklerine sahip nesneler üretmemize olanak sağlar. Bu bu işlemi istediğimiz kadar yapabiliriz.\n",
    "\n",
    "calisan_1 = employee() # instance aldık.Bu yöntem ile istediğimiz kadar çalışan üretebiliriz.\n",
    "calisan_1.firstName = \"Burak\"\n",
    "calisan_1.lasName = \"Yılmaz\"\n",
    "calisan_1.departmant = \"Developer\"\n",
    "\n",
    "# Yukarıda nesne isimi + \".\" operatörü ile ilgili sınıfın nesneye atanmış özelliklerine eriştik ve onlara ihtiyacımız olan \n",
    "# değerleri atadık.\n",
    "\n",
    "print(\"Çalışan Bilgileri\\nAdı: {}\\nSoyadı: {}\\nDepartmanı: {}\\n\".format(\n",
    "        calisan_1.firstName, calisan_1.lasName, calisan_1.departmant))"
   ]
  },
  {
   "cell_type": "code",
   "execution_count": 2,
   "metadata": {},
   "outputs": [
    {
     "name": "stdout",
     "output_type": "stream",
     "text": [
      "Çalışan Bilgileri\n",
      "Adı: İpek\n",
      "Soyadı: Yılmaz\n",
      "Departmanı: Amele\n",
      "\n"
     ]
    }
   ],
   "source": [
    "calisan_2 = employee() \n",
    "calisan_2.firstName = \"İpek\"\n",
    "calisan_2.lasName = \"Yılmaz\"\n",
    "calisan_2.departmant = \"Amele\"\n",
    "\n",
    "print(\n",
    "    \"Çalışan Bilgileri\\nAdı: {}\\nSoyadı: {}\\nDepartmanı: {}\\n\".format(\n",
    "        calisan_2.firstName, calisan_2.lasName, calisan_2.departmant\n",
    "    )\n",
    ")"
   ]
  },
  {
   "cell_type": "code",
   "execution_count": 3,
   "metadata": {},
   "outputs": [
    {
     "name": "stdout",
     "output_type": "stream",
     "text": [
      "['__class__', '__delattr__', '__dict__', '__dir__', '__doc__', '__eq__', '__format__', '__ge__', '__getattribute__', '__gt__', '__hash__', '__init__', '__init_subclass__', '__le__', '__lt__', '__module__', '__ne__', '__new__', '__reduce__', '__reduce_ex__', '__repr__', '__setattr__', '__sizeof__', '__str__', '__subclasshook__', '__weakref__', 'departmant', 'firstName', 'lasName']\n",
      "__dict__ Attribute => {'__module__': '__main__', '__doc__': '\\n        Bu satır class dokümantasyonudur. Class ile ilgili bilgileri barındırır.\\n        Bu sınıf (class) çalışan bilgilerini içerir.\\n    ', 'firstName': '', 'lasName': '', 'departmant': '', '__dict__': <attribute '__dict__' of 'employee' objects>, '__weakref__': <attribute '__weakref__' of 'employee' objects>}\n",
      "__doc__ Attribute => \n",
      "        Bu satır class dokümantasyonudur. Class ile ilgili bilgileri barındırır.\n",
      "        Bu sınıf (class) çalışan bilgilerini içerir.\n",
      "    \n",
      "_name__ Attribute => employee\n"
     ]
    }
   ],
   "source": [
    "# \"dir()\" fonksiyonu ile belirtilen nesnenin tüm özelliklerine ve yeteneklerine atanmış değerleri olamadan döndürür. \n",
    "# Bu işlev tüm özellikleri, yetenekleri ve yerleşik olarak nesne üzerinde bulunan metotları döner.\n",
    "\n",
    "print(dir(employee))\n",
    "\n",
    "# Class'a iat bazı özellikleri görmek için aşağıdaki ifadeleri kullanabilirsiniz:\n",
    "# __dict__ => TÜm class namespaclerini teslim eder.\n",
    "# __doc__ => TÜm class dökümantasyonunu teslim eder.\n",
    "# __name__ => Class isimini teslim eder.\n",
    "\n",
    "print(\"__dict__ Attribute => {}\".format(employee.__dict__))\n",
    "print(\"__doc__ Attribute => {}\".format(employee.__doc__))\n",
    "print(\"_name__ Attribute => {}\".format(employee.__name__))"
   ]
  },
  {
   "cell_type": "code",
   "execution_count": 4,
   "metadata": {},
   "outputs": [
    {
     "name": "stdout",
     "output_type": "stream",
     "text": [
      "First Name:Mike\n",
      "Last Name: Tyson\n",
      "Mike  -  Tyson\n"
     ]
    }
   ],
   "source": [
    "class boxer():\n",
    "    firstName = \"\"\n",
    "    lastName = \"\"\n",
    "    born = \"\"\n",
    "    alias = \"\"\n",
    "    division = \"\"\n",
    "    aggressivness = \"\"\n",
    "    weight = \"\"\n",
    "    height = \"\"\n",
    "    totalFight = \"\"\n",
    "    wins = \"\"\n",
    "    losess = \"\"\n",
    "\n",
    "boxer_1 = boxer()\n",
    "boxer_1.firstName = input(\"First Name:\")\n",
    "boxer_1.lastName = input(\"Last Name: \")\n",
    "\n",
    "print(boxer_1.firstName, \" - \", boxer_1.lastName)"
   ]
  },
  {
   "cell_type": "markdown",
   "metadata": {},
   "source": [
    "###### Self Nedir?\n",
    "Self sınıfın örneğini temsil eder. Self anahtar sözcüğünu kullanarak sınıfın özeniteliklerine ve yöntemlerine erişebiliriz. \n",
    "Niteliklere verilen argümanlara bağlar. Self \"C\" ve onun türevi alan \"C++ & C#\" gibi dillerde \"this\" anahtar sözcüğüne denk gelir.Yani \"self\" bulunduğu class'ı işaret eder.\n",
    "\n",
    "Örneğimizi incelediğimizde \"self\" anahtar sözcüğünün method'a dışarıdan gelen değerleri elde eder ve bu değerleri sınıfın ilgili özelliklerine atadı. Bu ana kadar yapmış olduğumuz örneklerde sınıfların özelliklerini sanki değişken tanımlıyor gibi oluşturdurk. Bu örnekte bu yöntemi tercih etmedik. Bunun nedeni self anatar sözcüğünün sınıf niteliklerini ve yeteneklerin işaret edebilme yetenğidir. Yani dışarıdan gelen değeri alıp, sınıf için bir \"x\" ve \"y\" özelliği yarattı ve bu özelliklerin içerisine değerleri atadı.\n",
    "\n",
    "Python'da method'lar instance alma aşamasında otomatik olarak gönderilir ancak otomatik olarak başaltılamazlar. Bu yüzden \n",
    "*\"instanceName\" \"+\" \".\"* operatörü ile çağrılmak zorundadırlar. Aslında bu bizim için bir problemdir. Uygulama geliştirirken devamlı bu hususu göz önünde bulundurarak ve bu işleme bağımlı olarak geliştirme yapmak zorundayız. Bu işlemi gözden kaçırırsak bütün işlem çöker. Bu bağlamda **construter methotlar** devreye girer ve sınıf örneklemi  alındığında kendileri otomatik olarak atama işlemlerini yerine getitir."
   ]
  },
  {
   "cell_type": "code",
   "execution_count": 5,
   "metadata": {},
   "outputs": [
    {
     "name": "stdout",
     "output_type": "stream",
     "text": [
      "5.0\n"
     ]
    }
   ],
   "source": [
    "import math\n",
    "\n",
    "class point():\n",
    "    \"\"\"\n",
    "        2 boyutlu düzlemde geometrik alanların mesafesini ölçen sınıf\n",
    "    \"\"\"\n",
    "    # Diğer örneklerde olduğu gibi sınıfa özellikleri ataamdık.\n",
    "    #x = \"\"\n",
    "    #y = \"\"\n",
    "    def move(self, x, y):\n",
    "        \"\"\"\n",
    "            Bu methot dışarıdan alınan değerleri class içerisindeki property'lere atar.\n",
    "            Niteliklere verilen argümanları bağlama özelliğine sahiptir.\n",
    "        :param x:\n",
    "        :param y:\n",
    "        :return:\n",
    "        \"\"\"\n",
    "        self.x = x\n",
    "        self.y = y\n",
    "\n",
    "    def reset(self):\n",
    "        \"\"\"\n",
    "            Koordinatları sıfırlayacak methot\n",
    "        :return:\n",
    "        \"\"\"\n",
    "        self.move(0,0)\n",
    "\n",
    "    def calucateDistance(self, otherPoint):\n",
    "        \"\"\"\n",
    "            Kullanıcıdan alınan değer bağlamında mesafa hesaplayacak method\n",
    "        :param otherPoint:\n",
    "        :return:\n",
    "        \"\"\"\n",
    "        return math.sqrt(\n",
    "            (self.x - otherPoint.x) ** 2 + (self.y - otherPoint.y) ** 2\n",
    "        )\n",
    "\n",
    "point_1 = point()\n",
    "point_2 = point()\n",
    "\n",
    "point_1.reset()\n",
    "point_2.move(5,0)\n",
    "print(point_2.calucateDistance(point_1))"
   ]
  }
 ],
 "metadata": {
  "kernelspec": {
   "display_name": "Python 3",
   "language": "python",
   "name": "python3"
  },
  "language_info": {
   "codemirror_mode": {
    "name": "ipython",
    "version": 3
   },
   "file_extension": ".py",
   "mimetype": "text/x-python",
   "name": "python",
   "nbconvert_exporter": "python",
   "pygments_lexer": "ipython3",
   "version": "3.7.6"
  }
 },
 "nbformat": 4,
 "nbformat_minor": 4
}
