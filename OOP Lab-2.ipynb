{
 "cells": [
  {
   "cell_type": "markdown",
   "metadata": {},
   "source": [
    "#### Constructors (__init__)\n",
    "\n",
    "__init__() => Yapıcı method. Tüm sınıflarda obje oluşturmak içn kullanılır. \"C\" tabanlı dillerde \"Constructor\" olarak isimlendirilir. Bu yapı sınıf türetilirken yani instance alınırken nesneye bağlı değil, sınıf kendisine atrama yapmak için kullanılır. Sınıfın örneklemi alındığında yani sınıf başlatıldığında \"__init__\" kendisi otomatik olarak çalışır. Bir başka değişle bu yöntem bir sınıftan nesne oluşturduğumuzda çağrılır ve sınıfın niteliklerini başlatılmasına (initilazition) izin verir.\n",
    "\n",
    "\"__init__()\" nesnenin durumunu başlatmak için kullanılır. Yapıcı methot olarak adlandırılan bu yapının görevi bir sınıfın nesnesi oluşturulduğunda sınıfın öznitelikleirni (attributte) yani sınıfın veri üyelerini başlatmak onlara dışarıdan gelen değerleri atamktıdr. Bir sınıf nesnesi somutlaştırıldığında yani sınıf instance'si alındığında __init__ otomatik olarak çalışır."
   ]
  },
  {
   "cell_type": "code",
   "execution_count": 2,
   "metadata": {},
   "outputs": [
    {
     "name": "stdout",
     "output_type": "stream",
     "text": [
      "Öğrenci Bilgileri\n",
      "No: B1245.12345\n",
      "Adı: Burak\n",
      "Soyadı: Yılmaz\n"
     ]
    }
   ],
   "source": [
    "class student:\n",
    "    def __init__(self, studetId, firstName, lastName):\n",
    "        self.studentId = studetId\n",
    "        self.firstName = firstName\n",
    "        self.lastName = lastName\n",
    "\n",
    "\n",
    "ogrenci_1 = student(\"B1245.12345\",\"Burak\",\"Yılmaz\")\n",
    "\n",
    "print(\n",
    "     \"Öğrenci Bilgileri\\nNo: {}\\nAdı: {}\\nSoyadı: {}\"\n",
    "         .format(ogrenci_1.studentId, ogrenci_1.firstName, ogrenci_1.lastName)\n",
    ")"
   ]
  },
  {
   "cell_type": "code",
   "execution_count": 6,
   "metadata": {},
   "outputs": [
    {
     "name": "stdout",
     "output_type": "stream",
     "text": [
      "Student Id: B123.4565\n",
      "Name: Burak Yılmaz\n",
      "Course: Python\n",
      "Student Id: B213.4856\n",
      "Name: İpek Yılmaz\n",
      "Course: Python\n",
      "Student Id: B321.4785\n",
      "Name: Hakan Yılmaz\n",
      "Course: Python\n"
     ]
    }
   ],
   "source": [
    "class Name:\n",
    "    def __init__(self, firstName, lastName):\n",
    "        self.FirstName = firstName\n",
    "        self.LastName = lastName\n",
    "\n",
    "class Student:\n",
    "    def __init__(self, studentId, name, course):\n",
    "        self.StudentId = studentId\n",
    "        self.StudentName = name\n",
    "        self.Course = course\n",
    "\n",
    "ogrenci_1 = Student(\"B123.4565\",Name(\"Burak\",\"Yılmaz\"), \"Python\")\n",
    "ogrenci_2 = Student(\"B213.4856\",Name(\"İpek\",\"Yılmaz\"), \"Python\")\n",
    "ogrenci_3 = Student(\"B321.4785\",Name(\"Hakan\",\"Yılmaz\"), \"Python\")\n",
    "\n",
    "students = [ogrenci_1, ogrenci_2, ogrenci_3]\n",
    "\n",
    "for student in students:\n",
    "    print(\n",
    "        \"Student Id: {}\\nName: {} {}\\nCourse: {}\"\n",
    "        .format(\n",
    "            student.StudentId, student.StudentName.FirstName, student.StudentName.LastName, student.Course\n",
    "        )\n",
    "    )"
   ]
  },
  {
   "cell_type": "code",
   "execution_count": 7,
   "metadata": {},
   "outputs": [
    {
     "name": "stdout",
     "output_type": "stream",
     "text": [
      "Toplam Eleman Sayısı: 1\n",
      "Ad: Burak\n",
      "Yaş: 31\n",
      "Departman: Muhassebe\n"
     ]
    }
   ],
   "source": [
    "class Employee:\n",
    "    departmant = \"Yazilim\" # Default olarak yazilim bilgisini atadık\n",
    "    eleman_sayisi = 0\n",
    "    \n",
    "    def __init__(self, name, age):\n",
    "        self.Name = name\n",
    "        self.Age = age\n",
    "        # Her bir instance aldığımda, yani sınıftan nesne türettiğimde eleman sayısı bir artacak\n",
    "        Employee.eleman_sayisi += 1 \n",
    "        \n",
    "    def eleman_sayisini_goster(self):\n",
    "        print(\"Toplam Eleman Sayısı: {}\".format(Employee.eleman_sayisi))\n",
    "        \n",
    "    def elemanlari_goster(self):\n",
    "        print(\"Ad: {}\\nYaş: {}\\nDepartman: {}\"\n",
    "              .format(self.Name, self.Age, self.departmant,))\n",
    "        \n",
    "calican = Employee(\"Burak\",\"31\")\n",
    "calican.departmant = \"Muhassebe\"\n",
    "calican.eleman_sayisini_goster()\n",
    "calican.elemanlari_goster()"
   ]
  },
  {
   "cell_type": "code",
   "execution_count": 8,
   "metadata": {},
   "outputs": [
    {
     "name": "stdout",
     "output_type": "stream",
     "text": [
      "Ad: Burak\n",
      "Yaş: 31\n",
      "Toplam Eleman Sayısı: 2\n",
      "Ad: Burak\n",
      "Yaş: 31\n",
      "Departman: Yazılım\n"
     ]
    }
   ],
   "source": [
    "calisan2= Employee(\n",
    "    input(\"Ad: \"),\n",
    "    input(\"Yaş: \"),\n",
    ")\n",
    "calisan2.departmant = \"Yazılım\"\n",
    "calisan2.eleman_sayisini_goster()\n",
    "calisan2.elemanlari_goster()"
   ]
  },
  {
   "cell_type": "code",
   "execution_count": 9,
   "metadata": {},
   "outputs": [
    {
     "name": "stdout",
     "output_type": "stream",
     "text": [
      "First Name: Burak\n",
      "Last Name: Yılmaz\n",
      "Language: Python\n",
      "\n",
      "        Information of Software Developer\n",
      "        \n",
      "        First Name: Burak\n",
      "        \n",
      "        Last Name: Yılmaz\n",
      "        \n",
      "        Language: Python\n",
      "        \n"
     ]
    }
   ],
   "source": [
    "class SoftwareDeveloper():\n",
    "    def __init__(self, firstname, lastname, language):\n",
    "        self.FirstName = firstname\n",
    "        self.LastName = lastname\n",
    "        self.Language = language\n",
    "        \n",
    "    def ShowInformation(self):\n",
    "        print(\"\"\"\n",
    "        Information of Software Developer\n",
    "        \n",
    "        First Name: {}\n",
    "        \n",
    "        Last Name: {}\n",
    "        \n",
    "        Language: {}\n",
    "        \"\"\".format(self.FirstName,self.LastName,self.Language))\n",
    "        \n",
    "developer = SoftwareDeveloper(\n",
    "    input(\"First Name: \"),\n",
    "    input(\"Last Name: \"),\n",
    "    input(\"Language: \")\n",
    ")\n",
    "developer.ShowInformation()"
   ]
  },
  {
   "cell_type": "code",
   "execution_count": 10,
   "metadata": {},
   "outputs": [
    {
     "name": "stdout",
     "output_type": "stream",
     "text": [
      "Please type into new language skill: C#\n",
      "New language added..!\n",
      "\n",
      "        Information of Software Developer\n",
      "        \n",
      "        First Name: Burak\n",
      "        \n",
      "        Last Name: Yılmaz\n",
      "        \n",
      "        Language: ['C#', 'Python', 'RPA', 'C++', 'C#']\n",
      "        \n"
     ]
    }
   ],
   "source": [
    "class SoftwareDeveloper():\n",
    "    def __init__(self, firstname, lastname, language):\n",
    "        self.FirstName = firstname\n",
    "        self.LastName = lastname\n",
    "        self.Language = language\n",
    "        \n",
    "    def ShowInformation(self):\n",
    "        print(\"\"\"\n",
    "        Information of Software Developer\n",
    "        \n",
    "        First Name: {}\n",
    "        \n",
    "        Last Name: {}\n",
    "        \n",
    "        Language: {}\n",
    "        \"\"\".format(self.FirstName, self.LastName, self.Language))\n",
    "        \n",
    "    def AddNewLanguage(self, NewLanguage):\n",
    "        print(\"New language added..!\")\n",
    "        self.Language.append(NewLanguage)\n",
    "        \n",
    "developer = SoftwareDeveloper(\"Burak\",\"Yılmaz\",[\"C#\",\"Python\",\"RPA\",\"C++\"])\n",
    "developer.AddNewLanguage(input(\"Please type into new language skill: \"))\n",
    "developer.ShowInformation()"
   ]
  }
 ],
 "metadata": {
  "kernelspec": {
   "display_name": "Python 3",
   "language": "python",
   "name": "python3"
  },
  "language_info": {
   "codemirror_mode": {
    "name": "ipython",
    "version": 3
   },
   "file_extension": ".py",
   "mimetype": "text/x-python",
   "name": "python",
   "nbconvert_exporter": "python",
   "pygments_lexer": "ipython3",
   "version": "3.7.6"
  }
 },
 "nbformat": 4,
 "nbformat_minor": 4
}
